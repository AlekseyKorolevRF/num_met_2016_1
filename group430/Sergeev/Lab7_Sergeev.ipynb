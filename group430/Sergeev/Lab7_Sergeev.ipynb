{
 "cells": [
  {
   "cell_type": "markdown",
   "metadata": {},
   "source": [
    "                      Нижегородский  государственный  университет  им. Н.И. Лобачевского \n",
    "                                         Радиофизический  факультет \n",
    "\n",
    "                                Лабораторная  работа по программированию №7\n",
    "                                              \n",
    "                                               Задача Коши\n",
    "\n",
    "                                                                                       Работу  выполнил:\n",
    "\n",
    "                                                                                       студент  радиофизического  факультета\n",
    "\n",
    "                                                                                       430 группы \n",
    "\n",
    "                                                                                       Сергеев  Егор\n",
    "  \n",
    "                                                                                       Преподаватель: \n",
    "\n",
    "                                                                                       Шиндин А.В.     \n",
    "\n",
    "\n",
    "                                              Нижний Новгород, 2016 \n"
   ]
  },
  {
   "cell_type": "markdown",
   "metadata": {},
   "source": [
    "## Метод разложения в ряд Тейлора\n",
    "Простейшим способом построения приближенного решения в точке $x_{n+1}$\n",
    "сетки $ω_N$ является способ, основанный на разложении решения в ряд\n",
    "Тейлора в предыдущей точке сетки $x_n$ по степеням шага h:\n",
    "$$y(x_n+1) = y(x_n) + h_4(x_n, y_n, h)$$\n",
    "$$\\delta (x, y, h) ≡ y'(x) + \\frac{h}{2} y\"(x) + \\frac{h^2}{3!}y'''(x)+......$$\n",
    "Взяв вместо этого ряда конечный его отрезок\n",
    "$$ϕ_p(x, y, h) ≡ y'(x) + \\frac{h}{2}y\"(x) + . . . + \\frac{h_{p−1}}\n",
    "{p!} y^{(p)}(x)$$\n",
    "и заменяя в нем производные $$y_{(k)} (x)$$ в силу дифференциального уравнения\n",
    "$$y' (x) = f (x, y (x)) ,$$\n",
    "$$y\" (x) = \\frac{d}{dx} f (x, y (x)) = f'_x + f'_yf,$$\n",
    "$$y''' (x) = \\frac{d}{dx}f'_x + f'_yf´ = f''_{xx} + f'_{x}f'_y + ((f'_y)^2+2f''_{xy})f+f''_{yy}f^2, . . . ,$$\n",
    "получаем последовательность приближений\n",
    "$$y_{n+1} = y_n + hϕ_p(x_n, y_n, h), n = 0, 1, 2, . . . . $$\n",
    "Отсюда, в частности, при $p = 1$ получаем схему\n",
    "$$y_{n+1}=y_n +hϕ(x_n,y_n,h)$$ $$y_0 =y^0,$$  \n",
    "(метод Эйлера), а при p = 2 - схему\n",
    "$$y_{n +1}=y_n +h[f(x_n,y_n)+\\frac{h}{2}(f_x(x_n,y_n)+f_y(x_n,y_n)f(x_n,y_n))]$$\n",
    "Алгоритмы не требуют вычисления дополнительных начальных условий и позволяют легко менять шаг интегрирования. Применимость данных методов ограничена теми задачами, для которых легко\n",
    "вычисляются частные производные высоких порядков функции $f(x, y)$."
   ]
  },
  {
   "cell_type": "markdown",
   "metadata": {},
   "source": [
    "## Задание:\n",
    " Решить методом Тейлора 2-ого порядка задачу Коши:\n",
    "\n",
    "$\\begin{cases}\n",
    "  y''+y'-4y = x*e^{-x}~~~~~~~~~x\\in {[0;2]} \\\\\n",
    "  y(0) = 1,~y'(0) = 0\n",
    " \\end{cases}$\n"
   ]
  },
  {
   "cell_type": "code",
   "execution_count": 33,
   "metadata": {
    "collapsed": false
   },
   "outputs": [],
   "source": [
    "%matplotlib inline\n",
    "import matplotlib\n",
    "matplotlib.rc('font', family='Arial')\n",
    "import matplotlib.pyplot as plt\n",
    "import numpy as np\n",
    "from numpy import exp,sin,cos,sqrt\n",
    "from numpy import linalg as l\n",
    "from scipy import *\n",
    "from scipy.linalg import *\n",
    "from scipy.misc import *\n",
    "from sympy import *\n",
    "init_printing()"
   ]
  },
  {
   "cell_type": "code",
   "execution_count": 34,
   "metadata": {
    "collapsed": false
   },
   "outputs": [],
   "source": [
    "def dy(x,y,dy1):\n",
    "    dy2=+4*y-dy1+exp(-x)*x\n",
    "    return dy2\n",
    "def teilor(f,x0,y0,s): \n",
    "    u=Symbol('u')\n",
    "    t=Symbol('t')\n",
    "    m=Symbol('m')\n",
    "    p=0\n",
    "    h = (x0[1]-x0[0])/s \n",
    "    x = np.linspace(x0[0],x0[1],s)\n",
    "    n = 2\n",
    "    y = np.zeros((n,s))    \n",
    "    for i in range(0,n):\n",
    "        y[i][0] = y0[i]\n",
    "    for i in range(0,s-1):\n",
    "        #y[1][i+1]=y[1][i]+h*d2y(x[i],y,i) + h*h/2*(diff(func(t,u),t).evalf(subs={t:x[i],u:y[0][i]}))\n",
    "        a=dy(x[i],y[0][i],y[1][i])+(h/2)*(diff(dy(t,u,m),t).evalf(subs={t:x[i],u:y[0][i],m:y[1][i]})+ dy(x[i],y[0][i],y[1][i])*diff(dy(t,u,m),u).evalf(subs={t:x[i],u:y[0][i],m:y[1][i]}))\n",
    "        y[1][i+1]=y[1][i]+h*a\n",
    "        a=y[1][i]+(h/2)*dy(x[i],y,i)\n",
    "        y[0][i+1] = y[0][i] + h *(y[1][i]+(h/2)*dy(x[i],y[0][i],y[1][i]))    \n",
    "    x = np.linspace(x0[0],x0[1],s)\n",
    "    plt.grid(True)\n",
    "    plt.title('Вид искомой функции')\n",
    "    plt.ylabel('Y')\n",
    "    plt.xlabel('X ')\n",
    "    st='Y(x)'\n",
    "    plt.plot(x,y[0][:],label=st)\n",
    "    plt.legend(loc=3)\n",
    "    plt.grid(True)\n",
    "    plt.title('Вид искомой функции')\n",
    "    plt.ylabel('dy/dx')\n",
    "    plt.xlabel('X')\n",
    "    st='dy/dx'\n",
    "    plt.plot(x,y[1][:],'r-',label=st)\n",
    "    plt.legend(loc=3)\n",
    "    plt.show()\n",
    "    plt.grid(True)\n",
    "    plt.title('Фазовая траектория')\n",
    "    plt.ylabel('dy/dx')\n",
    "    plt.xlabel('Y')\n",
    "    plt.plot(y[0][:],y[1][:])\n",
    "    plt.show()\n",
    "    return y[0][:]"
   ]
  },
  {
   "cell_type": "code",
   "execution_count": 35,
   "metadata": {
    "collapsed": false,
    "scrolled": true
   },
   "outputs": [
    {
     "data": {
      "image/png": "[encoded data removed]",
      "text/plain": [
       "<matplotlib.figure.Figure at 0xe9d993c630>"
      ]
     },
     "metadata": {},
     "output_type": "display_data"
    },
    {
     "data": {
      "image/png": "[encoded data removed]",
      "text/plain": [
       "<matplotlib.figure.Figure at 0xe9d9f6c908>"
      ]
     },
     "metadata": {},
     "output_type": "display_data"
    }
   ],
   "source": [
    "h=teilor(dy,[0,2],[1,0],101)\n",
    "\n"
   ]
  },
  {
   "cell_type": "code",
   "execution_count": null,
   "metadata": {
    "collapsed": true
   },
   "outputs": [],
   "source": []
  }
 ],
 "metadata": {
  "anaconda-cloud": {},
  "kernelspec": {
   "display_name": "Python [Root]",
   "language": "python",
   "name": "Python [Root]"
  },
  "language_info": {
   "codemirror_mode": {
    "name": "ipython",
    "version": 3
   },
   "file_extension": ".py",
   "mimetype": "text/x-python",
   "name": "python",
   "nbconvert_exporter": "python",
   "pygments_lexer": "ipython3",
   "version": "3.5.2"
  }
 },
 "nbformat": 4,
 "nbformat_minor": 0
}
