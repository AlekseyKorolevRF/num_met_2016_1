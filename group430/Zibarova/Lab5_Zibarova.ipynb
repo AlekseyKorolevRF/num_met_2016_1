{
 "cells": [
  {
   "cell_type": "markdown",
   "metadata": {},
   "source": [
    "                      Нижегородский государственный университет имени Н. И. Лобачевского\n",
    "\n",
    "                                          Радиофизический факультет\n",
    "\n",
    "                                            Кафедра математики\n",
    "                                            \n",
    "####                 Отчет по лабораторной работе \"Численное решение систем линейных уравнений, численное интегрирование\"\n",
    "\n",
    "                                              \n",
    "                                                 Вариант 2\n",
    "                                                                                  \n",
    "                                                                                  \n",
    "                                                                                  \n",
    "                                                                                  \n",
    "                                                              Выполнила: Зибаова Александра, 430 гр.\n",
    "                                                              Проверил: Шиндин А. В.\n",
    "\n",
    "                                         Нижний Новгород, 2016 год.\n",
    "                                    "
   ]
  },
  {
   "cell_type": "markdown",
   "metadata": {},
   "source": [
    "###  Содержание\n",
    "1. Постановка задачи\n",
    "2. Цели работы\n",
    "3. Описание используемых алгоритмов\n",
    "4. Исходный код программы\n",
    "5. Результаты работы программы\n",
    "6. Анализ результатов \n",
    "\n",
    "\n",
    "###   1. Постановка задачи.\n",
    "1. Выбрать свой вариант системы (номер варианта остается с предыдущей лабораторной работы). Кроме самой системы в варианте должны быть указаны:\n",
    " * число уравнений системы\n",
    " * требуемый метод/методы решения системы\n",
    " * необходимая относительная точность решения системы\n",
    " * требуемый метод вычисления интеграла\n",
    " * необходимая относительная точность вычисления интеграла (если не указана, то брать — 0,01).\n",
    "\n",
    "2.  Вычислить определенный интеграл двумя методами\n",
    " * Заданным методом\n",
    " * С помощью функции numpy.trapz(…), графически провести сравнение с результатами предыдущего метода. Разницу объяснить.\n",
    "\n",
    "3. Построить график подынтегральной функции, а также график зависимости значения интеграла от номера итерации предлагаемого метода численного интегрирования.\n",
    "\n",
    "4. Решить систему заданным методом \n",
    " * Для 1000 уравнений\n",
    " * Для 10000 уравнений\n",
    "\n",
    "5. Построить график решения X(i), а также график зависимости нормы решения от номера итерации предлагаемого метода численного решения системы.\n",
    "\n",
    "6. Решить систему с помощью функции numpy.linalg.solve(…). Результат графически сравнить с решением, полученным в пункте 4. Разницу объяснить.\n",
    "\n",
    "###   2. Цель работы\n",
    "* Освоить методы численного интегрирования. Вычислить определенный интеграл с использованием **рекуррентной формулы Буля** с относительной точностью **0,01**\n",
    "* Научиться численно решать системы линейных уравнений. Решение систему из 1000 и 10000 уравнений **методом прогонки** и **методом Гаусса-Зейделя** с относительной точностью **0,001**."
   ]
  },
  {
   "cell_type": "markdown",
   "metadata": {
    "collapsed": true
   },
   "source": [
    "## Рассматриваемая система уравнений имеет вид:"
   ]
  },
  {
   "cell_type": "markdown",
   "metadata": {},
   "source": [
    "$$x_1=0.1\\cdot x_2$$"
   ]
  },
  {
   "cell_type": "markdown",
   "metadata": {},
   "source": [
    "$$(2\\cdot i+1)\\cdot x_{i-1}-(6\\cdot i^2+3)\\cdot x_i+(4\\cdot i+2)\\cdot x_{i+1}=\\int_{0}^{1}\\frac{e^{-i^2\\cdot t}}{1+i\\cdot t\\cdot sin(t)^2}dt, i=2,3,\\ldots,n$$"
   ]
  },
  {
   "cell_type": "markdown",
   "metadata": {},
   "source": [
    "$$x_n=0.5\\cdot x_{n-1}$$"
   ]
  },
  {
   "cell_type": "markdown",
   "metadata": {},
   "source": [
    "###   3. Описание используемых алгоритмов\n",
    "#### 3.1 Вычисление определенного интеграла методом Буля\n",
    "Вычисляемый интеграл можно рассматривать как оператор, имеющий областью определения пространство $H_{[a,b]}$, а областью значений пространство $R_1$.\n",
    "$$A[f]=\\int\\limits_a^b f(x)\\,dx$$\n",
    "Тогда оператор $A$ можно аппроксимировать последовательностью конечноразмерных операторов $A_n$, имеющих областью определения пространство $R_n$, а областью значений пространство $R_1$\n",
    "Выбирая в качестве интерполяционного многочлена многочлен Лагранжа, будем иметь:\n",
    "$$\\int_a^b f(x)\\,dt=\\sum_{k=0}^nC_k^{(n)}f(x_k^{(n)})+R_n[f],$$ где\n",
    "Kвадратурная формула Ньютона-Котеса:\n",
    "$$C_k^{(n)}=\\int_a^b \\prod_{i=0,i\\ne k}^n {\\frac {x-x_i^{(n)}} {x_k^{(n)}-x_i^{(n)}}} \\,dx$$ \n",
    "остаточный член:\n",
    "$$R_n[f]=\\frac {f^{(n+1)}(\\zeta)} {(n+1)!} \\int_a^b\\prod_{i=0}^n (x-x_i^{(n)}) \\,dx$$ \n",
    "                                     **В квадратурной формуле Буля:**\n",
    "$$\\sum\\_{k=0}^4 C_k^{(4)}f(x_k^{(4)})=\\frac {\\beta-\\alpha} 90 (7f(\\alpha)+32f(\\frac {3\\alpha+\\beta} 4) + 12f(\\frac {\\alpha+\\beta} 2)+32f(\\frac {\\alpha+3\\beta} 4)+7f(\\beta))$$\n",
    "$$R_4[f]\\le max_{x\\in [\\alpha,\\beta]} |f^{(7)}(x)| \\frac {8(\\alpha-\\beta)^7} {945}$$"
   ]
  },
  {
   "cell_type": "markdown",
   "metadata": {},
   "source": [
    "#### 3.2 Решение системы уравнений\n",
    "Для ускорения работы программы удобно использовать матричные операторы. Поэтому сначала составим матрицы, содержащие коэффициенты системы, а также вектор-столбец, содержащий правые части этих уравнений - посчитанные с помощью рекуррентной формулы Буля интегралы. \n",
    "#### 3.2.1 Решение системы уравнений методом прогонки\n",
    "**Метод прогонки** относится к прямым методам решения алгебраических систем, то есть к таким методам, при которых совершается конечное, известное заранее количество математических операций. В таких методах точность определяется лишь точностью арифметических вычислений, а суть их сводится к исключению переменных. \n",
    "Он используется для решения систем с трехдиагональной матрицей.\n",
    "В этом случае можно записать\n",
    "$$x_{i-1}=L_ix_i+M_i, i=2,3,\\ldots,n$$\n",
    "Причем $L_2=-\\frac{c_1}{d_1}$ и $M_2=\\frac{b_1}{d_1}$\n",
    "Откуда $$x_n=\\frac{b_n-M_na_n}{L_na_n+d_n}$$\n",
    "$$x_i=\\frac{b_i+M_ia_i-x_ic_i}{a_iL_i+d_i}$$\n"
   ]
  },
  {
   "cell_type": "markdown",
   "metadata": {},
   "source": [
    "#### 3.2.2 Решение системы уравнений методом Гаусса-Зейделя\n",
    "Метод Гаусса-Зейделя является итерационным. Суть его в следующем.\n",
    "Представим матрицу $A$ в виде $A=L+D+R$, где $L$ - нижняя треугольная матрица с нулевыми диагональными элементами, $D$ - даигональная матрица, $R$ - верхняя треугольная матрица\n",
    "Тогда можно показать, что $$x^{k+1}=-(D+L)^{-1}Rx^k+(D+L)^{-1}b$$"
   ]
  },
  {
   "cell_type": "markdown",
   "metadata": {},
   "source": [
    "###   4. Исходный код программы"
   ]
  },
  {
   "cell_type": "code",
   "execution_count": 1,
   "metadata": {
    "collapsed": true
   },
   "outputs": [],
   "source": [
    "import matplotlib.pyplot as plt\n",
    "import numpy as np\n",
    "import math\n",
    "import scipy.integrate as integrate\n",
    "import numpy.linalg as lin\n",
    "%matplotlib inline"
   ]
  },
  {
   "cell_type": "code",
   "execution_count": 2,
   "metadata": {
    "collapsed": false
   },
   "outputs": [
    {
     "name": "stdout",
     "output_type": "stream",
     "text": [
      "nomer yravneniya7\n"
     ]
    }
   ],
   "source": [
    "def f(x,j):\n",
    "    return math.exp(-x*j**2)/(1+j*x*math.sin(x**2))\n",
    "k=int(input('nomer yravneniya'))\n",
    "def fst(x):\n",
    "    return f(x,k)\n",
    "xst = np.arange(0,1,0.01)\n",
    "yst = [fst(l) for l in xst]\n"
   ]
  },
  {
   "cell_type": "code",
   "execution_count": 10,
   "metadata": {
    "collapsed": false
   },
   "outputs": [],
   "source": [
    "def summ(p,k):\n",
    "    tz=0; e=0; Integ=0\n",
    "    for o in range(0,p):\n",
    "        tz=o/p\n",
    "        e+=1/p\n",
    "        Integ+=(e-tz)/90*(7*f(tz,k)+32*f((3*tz+e)/4,k)+12*f((tz+e)/2,k)+32*f((tz+3*e)/4,k)+7*f(e,k))\n",
    "    return Integ  \n",
    "\n",
    "def integral(k):\n",
    "    N=2\n",
    "    p=summ(1,k)\n",
    "    while math.fabs((summ(N,k)-summ(N-1,k))/summ(N-1,k))>0.01:\n",
    "        N=N+1\n",
    "        p=summ(N-1,k)\n",
    "    print('Номер интерации: ',N)\n",
    "    return p    \n",
    "def integral1(k):\n",
    "    N=2\n",
    "    p=summ(1,k)\n",
    "    while math.fabs((summ(N,k)-summ(N-1,k))/summ(N-1,k))>0.01:\n",
    "        N=N+1\n",
    "        p=summ(N-1,k)\n",
    "    return p   "
   ]
  },
  {
   "cell_type": "code",
   "execution_count": 4,
   "metadata": {
    "collapsed": false
   },
   "outputs": [],
   "source": [
    "NTR=np.trapz(yst, x=None, dx=0.01)"
   ]
  },
  {
   "cell_type": "code",
   "execution_count": 12,
   "metadata": {
    "collapsed": false
   },
   "outputs": [
    {
     "name": "stdout",
     "output_type": "stream",
     "text": [
      "kolichestvo yravnenyi sistemy1000\n"
     ]
    }
   ],
   "source": [
    "N=int(input('kolichestvo yravnenyi sistemy'))\n",
    "#Коэффициенты уравнений#\n",
    "A=np.zeros((N,N))\n",
    "A1=np.zeros((N,3))\n",
    "A[0,0]=A1[0,1]=1\n",
    "A[0,1]=A1[0,2]=-0.1\n",
    "A[N-1,N-1]=A1[N-1,1]=-1\n",
    "A[N-1,N-2]=A1[N-1,0]=0.5\n",
    "for i in range (2,N):\n",
    "    A[i-1,i-2]=A1[i-1,0]=2*i+1\n",
    "    A[i-1,i-1]=A1[i-1,1]=-6*i**2-3\n",
    "    A[i-1,i]=A1[i-1,2]=4*i+2\n",
    "#Правые части уравнений#    \n",
    "\n",
    "B=np.zeros((N))\n",
    "for i in range (2,N):\n",
    "    B[i-1]=integral1(i)\n",
    "def f2(x):\n",
    "    return f(x,7)\n",
    "S= integrate.quad(f2,0,1)   "
   ]
  },
  {
   "cell_type": "code",
   "execution_count": 25,
   "metadata": {
    "collapsed": false
   },
   "outputs": [],
   "source": [
    "L=np.zeros((N))\n",
    "M=np.zeros((N))\n",
    "Xprog=np.zeros((N))\n",
    "L[1]=-A1[0,2]/A1[0,1]\n",
    "M[1]=B[0]/A1[0,1]\n",
    "for i in range (2,N):\n",
    "    L[i]=-A1[i-1,2]/(A1[i-1,0]*L[i-1]+A1[i-1,1])\n",
    "    M[i]=(B[i-1]-M[i-1]*A1[i-1,0])/(A1[i-1,0]*L[i-1]+A1[i-1,1])\n",
    "Xprog[N-1]=(B[N-1]-M[N-1]*A1[N-1,0])/(L[N-1]*A1[N-1,0]+A1[N-1,1])\n",
    "for i in range (1,N):\n",
    "    Xprog[N-i-1]=L[N-i]*Xprog[N-i]+M[N-i]"
   ]
  },
  {
   "cell_type": "code",
   "execution_count": 13,
   "metadata": {
    "collapsed": false
   },
   "outputs": [],
   "source": [
    "Ln=np.zeros((N,N))\n",
    "D=np.zeros((N,N))\n",
    "for i in range (0,N):\n",
    "    D[i,i]=A[i,i]\n",
    "for i in range(0,N):\n",
    "    for j in range (0,i):\n",
    "        Ln[i,j]=A[i,j]\n",
    "R=A-D-Ln\n",
    "H=D+Ln\n",
    "Hi=lin.inv(H)\n",
    "Bt=np.zeros((N,1))\n",
    "for i in range(0,N):\n",
    "    Bt[i,0]=B[i]\n",
    "k1=np.dot(Hi,Bt)\n",
    "k2=-np.dot(Hi,R)"
   ]
  },
  {
   "cell_type": "code",
   "execution_count": 14,
   "metadata": {
    "collapsed": false
   },
   "outputs": [
    {
     "name": "stdout",
     "output_type": "stream",
     "text": [
      "iterazii10000\n"
     ]
    }
   ],
   "source": [
    "\n",
    "Xgz0=np.zeros((N,1))\n",
    "iter_GZ=int(input('iterazii'))\n",
    "Norm=[]\n",
    "nor0=0; konets=0\n",
    "for i in range(0,iter_GZ):\n",
    "    Xgz =np.dot(k2,Xgz0)+k1\n",
    "    nor=lin.norm(Xgz)\n",
    "    Norm.append(nor)\n",
    "    if (nor-nor0)/nor<0.001:\n",
    "        break\n",
    "    else:    \n",
    "        nor0=nor\n",
    "        Xgz0=Xgz\n",
    "        konets=i     "
   ]
  },
  {
   "cell_type": "code",
   "execution_count": 15,
   "metadata": {
    "collapsed": true
   },
   "outputs": [],
   "source": [
    "Xpy=lin.solve(A,B)"
   ]
  },
  {
   "cell_type": "markdown",
   "metadata": {},
   "source": [
    "###   5. Результат работы программы\n",
    "* Для вычисления интеграла"
   ]
  },
  {
   "cell_type": "code",
   "execution_count": 16,
   "metadata": {
    "collapsed": false
   },
   "outputs": [
    {
     "name": "stdout",
     "output_type": "stream",
     "text": [
      "График подынтегральной функции для выбранного интеграла\n"
     ]
    },
    {
     "data": {
      "image/png": "[encoded data removed]",
      "text/plain": [
       "<matplotlib.figure.Figure at 0x53bce70>"
      ]
     },
     "metadata": {},
     "output_type": "display_data"
    },
    {
     "name": "stdout",
     "output_type": "stream",
     "text": [
      "График зависимости значения интеграла от номера итерации в методе Буля\n",
      "Зависимость интеграла от номера итерации\n"
     ]
    },
    {
     "data": {
      "image/png": "[encoded data removed]",
      "text/plain": [
       "<matplotlib.figure.Figure at 0x82038f0>"
      ]
     },
     "metadata": {},
     "output_type": "display_data"
    },
    {
     "name": "stdout",
     "output_type": "stream",
     "text": [
      "Номер интерации:  8\n",
      "Значение интеграла:  0.02080123184554507\n",
      "Значение интеграла в результате вычисления с помощью numpy.trapz\n",
      "0.0208076364541\n"
     ]
    }
   ],
   "source": [
    "print(('График подынтегральной функции для выбранного интеграла'))\n",
    "plt.plot(xst,yst)\n",
    "plt.title('Schedule integrand')\n",
    "plt.grid()\n",
    "plt.show()\n",
    "print(('График зависимости значения интеграла от номера итерации в методе Буля'))\n",
    "v=np.arange(1,30,1)\n",
    "c=[summ(s,10000) for s in v]#введи здесь номер интеграла\n",
    "print('Зависимость интеграла от номера итерации')\n",
    "plt.scatter(v,c)\n",
    "plt.xlabel('Number of iterations')\n",
    "plt.ylabel('Integral')\n",
    "plt.title('')\n",
    "plt.grid()\n",
    "plt.show()\n",
    "print ('Значение интеграла: ',integral(k))\n",
    "print('Значение интеграла в результате вычисления с помощью numpy.trapz')\n",
    "print(NTR)"
   ]
  },
  {
   "cell_type": "markdown",
   "metadata": {},
   "source": [
    "* Для системы уравнений"
   ]
  },
  {
   "cell_type": "code",
   "execution_count": 26,
   "metadata": {
    "collapsed": false
   },
   "outputs": [
    {
     "name": "stdout",
     "output_type": "stream",
     "text": [
      "График решения X(i)\n"
     ]
    },
    {
     "data": {
      "image/png": "[encoded data removed]",
      "text/plain": [
       "<matplotlib.figure.Figure at 0x828b5f0>"
      ]
     },
     "metadata": {},
     "output_type": "display_data"
    },
    {
     "name": "stdout",
     "output_type": "stream",
     "text": [
      "Или, при увеличении масштаба:\n"
     ]
    },
    {
     "data": {
      "image/png": "[encoded data removed]",
      "text/plain": [
       "<matplotlib.figure.Figure at 0x8234e10>"
      ]
     },
     "metadata": {},
     "output_type": "display_data"
    },
    {
     "name": "stdout",
     "output_type": "stream",
     "text": [
      "График зависимости нормы решения от номера итерации:\n"
     ]
    },
    {
     "data": {
      "image/png": "[encoded data removed]",
      "text/plain": [
       "<matplotlib.figure.Figure at 0x82eee70>"
      ]
     },
     "metadata": {},
     "output_type": "display_data"
    }
   ],
   "source": [
    "print(('График решения X(i)'))\n",
    "plt.plot(Xpy)\n",
    "plt.plot(Xprog)\n",
    "plt.plot(Xgz0)\n",
    "plt.axis([0, 20, min(Xpy)-0.005, max(Xpy)+0.005])\n",
    "plt.grid()\n",
    "plt.show()\n",
    "print(('Или, при увеличении масштаба:'))\n",
    "plt.plot(Xpy)\n",
    "plt.plot(Xprog)\n",
    "plt.plot(Xgz0)\n",
    "plt.axis([5, 1000, -0.000000005, 0])\n",
    "plt.grid()\n",
    "plt.show()\n",
    "print(('График зависимости нормы решения от номера итерации:'))\n",
    "plt.plot(Norm)\n",
    "plt.axis([0, konets, 0.007, 0.015])\n",
    "plt.grid()\n",
    "plt.show()"
   ]
  },
  {
   "cell_type": "markdown",
   "metadata": {},
   "source": [
    "###   6. Анализ результатов\n",
    "* Результаты вычисления интеграла методом Буля и с помощью встроенной функции numpy.trapz совпадают в точностью до 3 знака после запятой. Это связано с тем, что встроенная функция вычисляет интеграл с помощью формулы трапеций, в которой используется интерполяционный многочлен Лагранжа второго порядка, тогда как в формуле Буля интерполяция производилась многочленом четвертого порядка. \n",
    "* Результаты решения системы, полученные методом прогонки и вычисленные с помощью встроенной функции совпадают c точностью до $10^{-17}$. Результат, полученный итерационным методом Гаусса-Зейделя, совпадает с ними c точностью до $10^{-7}$. Дополнительной проверкой правильности выведенного результата служит его подстановка в уравнение. "
   ]
  },
  {
   "cell_type": "code",
   "execution_count": 27,
   "metadata": {
    "collapsed": false
   },
   "outputs": [
    {
     "name": "stdout",
     "output_type": "stream",
     "text": [
      "разница при решении методом прогонки и встроенной функцией\n",
      "6.49880622636e-11\n",
      "разница при решении методом Гаусса-Зейделя и встроенной функцией\n",
      "3.2217444495e-07\n",
      "проверка верности решения путем подстановки в уравнение\n",
      "6.49663525645e-11\n"
     ]
    }
   ],
   "source": [
    "print('разница при решении методом прогонки и встроенной функцией')\n",
    "print(lin.norm(Xpy-Xprog))\n",
    "print('разница при решении методом Гаусса-Зейделя и встроенной функцией')\n",
    "Transp=Xgz.transpose()\n",
    "print(lin.norm(Transp-Xpy))\n",
    "print('проверка верности решения путем подстановки в уравнение')\n",
    "print(lin.norm(np.dot(A,Xprog)-B))"
   ]
  }
 ],
 "metadata": {
  "anaconda-cloud": {},
  "kernelspec": {
   "display_name": "Python [Root]",
   "language": "python",
   "name": "Python [Root]"
  },
  "language_info": {
   "codemirror_mode": {
    "name": "ipython",
    "version": 3
   },
   "file_extension": ".py",
   "mimetype": "text/x-python",
   "name": "python",
   "nbconvert_exporter": "python",
   "pygments_lexer": "ipython3",
   "version": "3.5.2"
  }
 },
 "nbformat": 4,
 "nbformat_minor": 0
}
