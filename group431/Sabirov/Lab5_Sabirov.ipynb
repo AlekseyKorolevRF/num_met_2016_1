{
 "cells": [
  {
   "cell_type": "markdown",
   "metadata": {},
   "source": [
    "# Лабораторная работа №5\n",
    "## Решение систем линейных уравнений"
   ]
  },
  {
   "cell_type": "markdown",
   "metadata": {},
   "source": [
    "В системе имееться интеграл, поэтому для начала вычислим его используя рекурентную формулу Симпсона, с относительной точностью $0.01$\n"
   ]
  },
  {
   "cell_type": "markdown",
   "metadata": {},
   "source": [
    "Многообразие квадратурных формул определяемся требованиями, предъявляемыми к алгоритмам вычисления интеграла и классом функций к\n",
    "которым применяется данный алгоритм. Общая проблема построения квадратурных формул заключается в следующем. Пусть задано пространство $H_{[α,β]}$ и натуральное число n, Требуется среди всех квадратурных формул вида"
   ]
  },
  {
   "cell_type": "markdown",
   "metadata": {},
   "source": [
    "$ \\sum^n_{i=1} C^{(n)}_i\\cdot f_i$"
   ]
  },
  {
   "cell_type": "markdown",
   "metadata": {},
   "source": [
    "определить такую, чтобы величина верхней грани"
   ]
  },
  {
   "cell_type": "markdown",
   "metadata": {},
   "source": [
    "$ sup_{f∈H[α,β]} | \\int^b_a f(x)dx − \\sum^n_{i=1} C^{(n)}_i\\cdot f_i| $"
   ]
  },
  {
   "cell_type": "markdown",
   "metadata": {},
   "source": [
    "являлась наименьшей."
   ]
  },
  {
   "cell_type": "markdown",
   "metadata": {},
   "source": [
    "Таким образом, речь идет о таком выборе на отрезке $[α, β]$ узлов сетки $ x_i ∈ ω_n$ и весовых коэффициентов $C^{(n)}_i$, при котором приближенное значение интеграла, даваемое квадратурной формулой, было наилучшим.\n"
   ]
  },
  {
   "cell_type": "markdown",
   "metadata": {},
   "source": [
    "Можно видоизменить поставленную задачу, если искать в указанном\n",
    "смысле квадратурную формулу, в которой либо узлы, либо весовые коэффициента подчинены заранее определенным требованиям. Наиболее просто \n",
    "поставленная задача решается для заранее определенной системы узлов и\n",
    "заранее определенного класса интегрируемых функций."
   ]
  },
  {
   "cell_type": "markdown",
   "metadata": {},
   "source": [
    "Квадратурная формула Симпсона (n = 2)"
   ]
  },
  {
   "cell_type": "markdown",
   "metadata": {},
   "source": [
    "$ \\sum^2_{k=0} C^{(2)}_k\\cdot f(x^{(2)}_k) = (β − α) / 6 \\cdot (f(α) + 4f((β + α)/2) + f(β)) $"
   ]
  },
  {
   "cell_type": "code",
   "execution_count": 2,
   "metadata": {
    "collapsed": true
   },
   "outputs": [],
   "source": [
    "import numpy as np\n",
    "from scipy import *\n",
    "from scipy.linalg import *\n",
    "from math import log, exp,sin\n",
    "import matplotlib.pyplot as plt"
   ]
  },
  {
   "cell_type": "code",
   "execution_count": 3,
   "metadata": {
    "collapsed": true
   },
   "outputs": [],
   "source": [
    "def f(x):\n",
    "    z=sin(x)*exp(-x)\n",
    "    return z"
   ]
  },
  {
   "cell_type": "code",
   "execution_count": 4,
   "metadata": {
    "collapsed": false
   },
   "outputs": [
    {
     "name": "stdout",
     "output_type": "stream",
     "text": [
      "Значение интеграла 0.49842407835407637\n"
     ]
    }
   ],
   "source": [
    "t=1 # нужно для дробления шага\n",
    "sn=1\n",
    "S=[] # для график\n",
    "T=[] # для график\n",
    "while True:\n",
    "    r=0\n",
    "    s=0 \n",
    "    a=0 # нижний предел\n",
    "    h=4/t # шаг с дроблением\n",
    "    while True:\n",
    "        b0=a+h #двигаем b0\n",
    "        c=(b0-a)/6*(f(a)+4*f((a+b0)/2)+f(b0)) # формула Симпсона\n",
    "        a=a+h # двигаем а\n",
    "        r=r+c # суммирование всех \"трапеций\"\n",
    "        if abs(f(a))<0.001: # условие окончания подсчёта интеграла. Функци становится равной нулю\n",
    "            break\n",
    "    s=s+r # собственно саммо значение интеграла. Оно будет уточняться\n",
    "    S.append(s) # для график добовляем значение s\n",
    "    T.append(t) # для график добовляем значение t ( номер  итерации)\n",
    "    t=t+1 # увеличиваем дробитель шага\n",
    "    if abs(s-sn)<0.01: # условие выхода из сновного цикла\n",
    "        break\n",
    "    sn=s # запомнили предыдущие значение интеграла\n",
    "print(\"Значение интеграла\", s)\n",
    "    "
   ]
  },
  {
   "cell_type": "code",
   "execution_count": 5,
   "metadata": {
    "collapsed": false
   },
   "outputs": [
    {
     "data": {
      "image/png": "[encoded data removed]",
      "text/plain": [
       "<matplotlib.figure.Figure at 0x2e853b63748>"
      ]
     },
     "metadata": {},
     "output_type": "display_data"
    }
   ],
   "source": [
    "% matplotlib inline\n",
    "xnew=np.linspace(0,5,1000)\n",
    "ynew=[f(i) for i in xnew]\n",
    "plt.plot(xnew,ynew)\n",
    "plt.grid(True)\n",
    "plt.show()"
   ]
  },
  {
   "cell_type": "code",
   "execution_count": 6,
   "metadata": {
    "collapsed": false
   },
   "outputs": [
    {
     "data": {
      "image/png": "[encoded data removed]",
      "text/plain": [
       "<matplotlib.figure.Figure at 0x2e853b612e8>"
      ]
     },
     "metadata": {},
     "output_type": "display_data"
    }
   ],
   "source": [
    "#График зависимости значения интеграла от номера итерации \n",
    "plt.plot(T,S,'o')\n",
    "plt.grid(True)\n",
    "plt.show()"
   ]
  },
  {
   "cell_type": "code",
   "execution_count": 7,
   "metadata": {
    "collapsed": false
   },
   "outputs": [
    {
     "name": "stdout",
     "output_type": "stream",
     "text": [
      "Значение интеграла:  [ 0.49930798] (trapz)\n"
     ]
    }
   ],
   "source": [
    "# тот же интеграл но с помощью функции  numpy.trapz(…) \n",
    "xt=[]\n",
    "yt=[]\n",
    "j=0\n",
    "while True:\n",
    "    xt.append(j)\n",
    "    yt.append(f(j))\n",
    "    j=j+0.5\n",
    "    if f(j)<0.001:\n",
    "            break\n",
    "st=np.trapz([yt],x=[xt]) \n",
    "\n",
    "print(\"Значение интеграла: \",st,\"(trapz)\")  "
   ]
  },
  {
   "cell_type": "code",
   "execution_count": 8,
   "metadata": {
    "collapsed": false
   },
   "outputs": [],
   "source": [
    "def f(x):\n",
    "    z=sin(x)*exp(-x*(i+1))\n",
    "    return z\n",
    "\n",
    "# посчёт 10 первых интегралов с помощью формулы Симпсона\n",
    "t=1 # нужно для дробления шага\n",
    "sn=1\n",
    "S=[] # для график\n",
    "I=[] # для график\n",
    "for i in range(10): # для подсчёта 10  первых интегралов \n",
    "    while True:\n",
    "        r=0\n",
    "        s=0 \n",
    "        a=0 # нижний предел\n",
    "        h=4/t # шаг с дроблением\n",
    "        while True:\n",
    "            b0=a+h #двигаем b0\n",
    "            c=(b0-a)/6*(f(a)+4*f((a+b0)/2)+f(b0)) # формула Симпсона\n",
    "            a=a+h # двигаем а\n",
    "            r=r+c # суммирование всех \"трапеций\"\n",
    "            if abs(f(a))<0.001: # условие окончания подсчёта интеграла. Функци становится равной нулю\n",
    "                break\n",
    "        s=s+r # собственно саммо значение интеграла. Оно будет уточняться\n",
    "        t=t+1 # увеличиваем дробитель шага\n",
    "        if abs(s-sn)<0.01: # условие выхода из сновного цикла\n",
    "            break\n",
    "        sn=s # запомнили предыдущие значение интеграла\n",
    "    S.append(s) # для график добовляем значение s\n",
    "    I.append(i) # для график добовляем значение i ( номер  интеграла)"
   ]
  },
  {
   "cell_type": "code",
   "execution_count": 9,
   "metadata": {
    "collapsed": false
   },
   "outputs": [],
   "source": [
    "#значения интегралов по trapz\n",
    "St=[] # для график\n",
    "It=[] # для график\n",
    "for i in range(10):\n",
    "    xt=[]\n",
    "    yt=[]\n",
    "    j=0\n",
    "    while True:\n",
    "        xt.append(j)\n",
    "        yt.append(f(j))\n",
    "        j=j+0.5\n",
    "        if f(j)<0.001:\n",
    "            break\n",
    "    st=np.trapz([yt],x=[xt])\n",
    "    St.append(st) # для график добовляем значение s\n",
    "    It.append(i) # для график добовляем значение i ( номер  интеграла)"
   ]
  },
  {
   "cell_type": "code",
   "execution_count": 10,
   "metadata": {
    "collapsed": false
   },
   "outputs": [
    {
     "data": {
      "image/png": "[encoded data removed]",
      "text/plain": [
       "<matplotlib.figure.Figure at 0x2e85431a630>"
      ]
     },
     "metadata": {},
     "output_type": "display_data"
    },
    {
     "data": {
      "image/png": "[encoded data removed]",
      "text/plain": [
       "<matplotlib.figure.Figure at 0x2e854384160>"
      ]
     },
     "metadata": {},
     "output_type": "display_data"
    }
   ],
   "source": [
    "plt.plot(It,St,'o', I,S, 'o')\n",
    "plt.grid(True)\n",
    "plt.show()\n",
    "St=np.array(St)\n",
    "S=np.array(S)\n",
    "ds=np.array((S-transpose(St)))\n",
    "#график разносити\n",
    "plt.plot(I,ds[0],'o')\n",
    "plt.grid(True)\n",
    "plt.show()"
   ]
  },
  {
   "cell_type": "code",
   "execution_count": 11,
   "metadata": {
    "collapsed": true
   },
   "outputs": [],
   "source": [
    "def f(x):\n",
    "    z=sin(x)*exp(-x*(i+1))\n",
    "    return z"
   ]
  },
  {
   "cell_type": "markdown",
   "metadata": {},
   "source": [
    "Вычислим все интегралы в системе"
   ]
  },
  {
   "cell_type": "code",
   "execution_count": 28,
   "metadata": {
    "collapsed": false
   },
   "outputs": [
    {
     "name": "stdout",
     "output_type": "stream",
     "text": [
      "[[  5.21597000e-01]\n",
      " [  2.00250235e-01]\n",
      " [  9.97773787e-02]\n",
      " [  5.85998072e-02]\n",
      " [  3.82627483e-02]\n",
      " ..., \n",
      " [  5.43516003e-07]\n",
      " [  5.42698885e-07]\n",
      " [  5.41883535e-07]\n",
      " [  5.41069948e-07]\n",
      " [  5.40258120e-07]]\n"
     ]
    }
   ],
   "source": [
    "np.set_printoptions( threshold=100,edgeitems=5)\n",
    "n=1000\n",
    "sn=1\n",
    "b=np.zeros((n, 1))\n",
    "for i in range(n): # для подсчёта n  интегралов \n",
    "    while True:\n",
    "        r=0\n",
    "        s=0 \n",
    "        a=0 # нижний предел\n",
    "        h=4/t # шаг с дроблением\n",
    "        while True:\n",
    "            b0=a+h #двигаем b0\n",
    "            c=(b0-a)/6*(f(a)+4*f((a+b0)/2)+f(b0)) # формула Симпсона\n",
    "            a=a+h # двигаем а\n",
    "            r=r+c # суммирование всех \"трапеций\"\n",
    "            if abs(f(a))<0.001: # условие окончания подсчёта интеграла. Функци становится равной нулю\n",
    "                break\n",
    "        s=s+r # собственно саммо значение интеграла. Оно будет уточняться\n",
    "        t=t+1 # увеличиваем дробитель шага\n",
    "        if abs(s-sn)<0.01: # условие выхода из сновного цикла\n",
    "            break\n",
    "        sn=s # запомнили предыдущие значение интеграла\n",
    "    b[i][0]=s # вектор правой части\n",
    "print(b)\n",
    "    "
   ]
  },
  {
   "cell_type": "markdown",
   "metadata": {},
   "source": [
    "Найдем решение системы с помощью одношагового циклического метода Зейделя"
   ]
  },
  {
   "cell_type": "markdown",
   "metadata": {},
   "source": [
    "\n",
    "Метод является итерационным, т.е. решение системы $Ax = b$, где\n",
    "\n",
    "$A$ - матрица коэффициентов\n",
    "\n",
    "$A = \\begin{pmatrix}\n",
    "a_{11} & a_{12} & \\cdots & a_{1n} \\\\\n",
    "a_{21} & a_{22} & \\cdots & a_{2n} \\\\         \n",
    "\\vdots & \\vdots & \\ddots & \\vdots \\\\\n",
    "a_{n1} & a_{n2} & \\cdots & a_{nn}\n",
    "\\end{pmatrix}$, \n",
    "\n",
    "$b$ - заданный вектор правых частей уравнений\n",
    "\n",
    "$b = \\begin{pmatrix}\n",
    "b_{1}  \\\\\n",
    "b_{2}  \\\\         \n",
    "\\vdots  \\\\\n",
    "b_{n} \n",
    "\\end{pmatrix}$, \n",
    "\n",
    "$x$ - вектор неизвестных\n",
    "\n",
    "$x = \\begin{pmatrix}\n",
    "x_{1}  \\\\\n",
    "x_{2}  \\\\         \n",
    "\\vdots  \\\\\n",
    "x_{n} \n",
    "\\end{pmatrix}$,  \n",
    "\n",
    "получается как предел последовательности векторов $\\{x^1,x^2,...\\}$  , каждый последующий элемент которой вычисляется по определенному правилу. Начальный элемент $x^1$  выбирается произвольно. Последовательность $\\{x^1,x^2,...\\}$  называется итерационной, а ее элементы - последовательными итерациями.\n",
    "Как правило, для итерационного метода решения системы правило построения элементов итеарционной последовательности записывается в виде\n",
    "$x^{k+1}=T_kx^k+H_kb$.\n",
    "В методе Зейделя $H_k = (E-M)^{-1}$  , $T_k = (E-M)^{-1}N$  , где $M+N = E-A$, $M$  - нижняя треугольная матрица с нулевыми диагональными элементами, $N$ - верхняя треугольная матрица:           \n",
    "\n",
    "$M = \\begin{pmatrix}\n",
    "0 & 0 & \\cdots & 0 \\\\\n",
    "-a_{21} & 0 & \\cdots & 0 \\\\         \n",
    "\\vdots & \\vdots & \\ddots & \\vdots \\\\\n",
    "-a_{n1}  & \\cdots & -a_{nn-1} & 0\n",
    "\\end{pmatrix}$,\n",
    "\n",
    "$N = \\begin{pmatrix}\n",
    "1-a_{11} & -a_{12} & \\cdots & -a_{1n} \\\\\n",
    "0 & 1-a_{22} & \\cdots & -a_{2n} \\\\         \n",
    "\\vdots & \\vdots & \\ddots & \\vdots \\\\\n",
    "0 & 0 & \\cdots & 1-a_{nn}\n",
    "\\end{pmatrix}$,\n",
    "\n",
    "$*$Условие сходимости метода Зейделя: $||T||<1$"
   ]
  },
  {
   "cell_type": "markdown",
   "metadata": {},
   "source": [
    "Следовательно соответствуя итерационному методу решение имеет вид \n",
    "$x^{k+1}=(E-M)^{-1}\\cdot N\\cdot x^k + (E-M)^{-1}\\cdot b$"
   ]
  },
  {
   "cell_type": "code",
   "execution_count": 29,
   "metadata": {
    "collapsed": false
   },
   "outputs": [
    {
     "name": "stdout",
     "output_type": "stream",
     "text": [
      "[[  5.21597000e-01]\n",
      " [  2.88031983e-01]\n",
      " [  1.96049601e-01]\n",
      " [  1.20112854e-01]\n",
      " [  6.44979391e-02]\n",
      " ..., \n",
      " [  1.01844319e-06]\n",
      " [  1.01655661e-06]\n",
      " [  1.01387838e-06]\n",
      " [  1.01125299e-06]\n",
      " [  1.00947453e-06]]\n"
     ]
    }
   ],
   "source": [
    "E=np.eye(n)\n",
    "A=np.zeros((n,n))\n",
    "for i in range(0,n):\n",
    "    for j in range(0,n):\n",
    "        A[i][j]=-1/(1+(i+1)**2)*(j+1)*sin(j+1)      \n",
    "A=A+E*n**2   \n",
    "L=np.zeros((n, n))\n",
    "for i in range(n):\n",
    "    for j in range(i):\n",
    "        L[i][j]=A[i][j]       \n",
    "M=-L\n",
    "N=E-(A-L)  \n",
    "X0=np.zeros((n, 1))\n",
    "C=inv(E-M)\n",
    "Cb=dot(C,b)\n",
    "B=dot(C,N)\n",
    "\n",
    "while i<1000:\n",
    "    Xn=dot(B,X0)+Cb\n",
    "    #if norm(X0-Xn)<0.01:\n",
    "    #    break\n",
    "    X0=Xn\n",
    "    i+=1\n",
    "    \n",
    "#print( \"Решени через solve\")   \n",
    "print(X0)\n",
    "\n"
   ]
  },
  {
   "cell_type": "code",
   "execution_count": 30,
   "metadata": {
    "collapsed": false
   },
   "outputs": [
    {
     "name": "stdout",
     "output_type": "stream",
     "text": [
      "Решени через solve\n",
      "[[  5.21597295e-07]\n",
      " [  2.00250353e-07]\n",
      " [  9.97774379e-08]\n",
      " [  5.85998420e-08]\n",
      " [  3.82627711e-08]\n",
      " ..., \n",
      " [  5.43516599e-13]\n",
      " [  5.42699479e-13]\n",
      " [  5.41884128e-13]\n",
      " [  5.41070540e-13]\n",
      " [  5.40258711e-13]]\n"
     ]
    }
   ],
   "source": [
    "R=solve(A,b)\n",
    "print( \"Решени через solve\")   \n",
    "print(R)\n"
   ]
  },
  {
   "cell_type": "code",
   "execution_count": 33,
   "metadata": {
    "collapsed": false
   },
   "outputs": [
    {
     "data": {
      "image/png": "[encoded data removed]",
      "text/plain": [
       "<matplotlib.figure.Figure at 0x2e8543bc0b8>"
      ]
     },
     "metadata": {},
     "output_type": "display_data"
    }
   ],
   "source": [
    "O=[]\n",
    "for i in range (1000):\n",
    "    O.append(X0[i]-R[i])\n",
    "#print (O)\n",
    "plt.plot(O,'o')\n",
    "plt.grid(True)\n",
    "plt.show()"
   ]
  }
 ],
 "metadata": {
  "kernelspec": {
   "display_name": "Python [Root]",
   "language": "python",
   "name": "Python [Root]"
  },
  "language_info": {
   "codemirror_mode": {
    "name": "ipython",
    "version": 3
   },
   "file_extension": ".py",
   "mimetype": "text/x-python",
   "name": "python",
   "nbconvert_exporter": "python",
   "pygments_lexer": "ipython3",
   "version": "3.5.2"
  }
 },
 "nbformat": 4,
 "nbformat_minor": 0
}
