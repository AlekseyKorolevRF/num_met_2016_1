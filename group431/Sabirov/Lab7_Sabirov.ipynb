{
 "cells": [
  {
   "cell_type": "markdown",
   "metadata": {},
   "source": [
    "# Лабораторная работа №7"
   ]
  },
  {
   "cell_type": "markdown",
   "metadata": {},
   "source": [
    "### Задача Коши для обыкновенных дифференциальных уравнений"
   ]
  },
  {
   "cell_type": "markdown",
   "metadata": {},
   "source": [
    "*Нашей целью является обзор основных численных методов решения задачи Коши"
   ]
  },
  {
   "cell_type": "markdown",
   "metadata": {},
   "source": [
    "$y^\\prime(x) = f(x, y(x)), x ∈ (a, b)$"
   ]
  },
  {
   "cell_type": "markdown",
   "metadata": {},
   "source": [
    "$y (a) = y^0 $,"
   ]
  },
  {
   "cell_type": "markdown",
   "metadata": {},
   "source": [
    "где $y (x) ≡ (y_1(x), y_2(x),..., y_s(x)), y^0$ - заданный начальный вектор."
   ]
  },
  {
   "cell_type": "markdown",
   "metadata": {},
   "source": [
    "При численном решении задачи $(1)$ ищется последовательность векторов $({y_n})^N_{n=0}$, являющихся приближениями для значений решения ${y(x_n)}^N_n=0$ на множестве точек сетки $ω_N ≡ (x_i: x_{i+1} = x_i + h_i$, $i = \\overline{0,N−1}$, $x0 = a$, $x_N = b$), где $h_i > 0$ - шаг сетки. В практике используются разнообразные сетки. Мы ограничимся рассмотрением методов с равномерными сетками, т.е. сетками с постоянным шагом $h_i ≡ h$."
   ]
  },
  {
   "cell_type": "markdown",
   "metadata": {},
   "source": [
    "Основное предположение относительно задачи $(1)$, которое мы примем, состоит в непрерывности правой части дифференциального уравнения (вектор-функции $f (x, y))$ по совокупности переменных в $(a, b) × R_s$ и глобального (равномерного относительно $x$) условия Липшица по $y$:"
   ]
  },
  {
   "cell_type": "markdown",
   "metadata": {},
   "source": [
    "$||f(x, y_1) − f(x, y_2)|| ≤ L||y^1 − y^2||$,\n"
   ]
  },
  {
   "cell_type": "markdown",
   "metadata": {},
   "source": [
    "где $L$ - постоянная Липшица. В этих условиях решение задачи Коши $(1)$ существует и единственно при любом начальном векторе $y_0$. Заметим, что реализация конкретного численного метода и, в особенности, его обоснование требуют обычно более сильных ограничений на параметры задачи. Не оговаривая дополнительно, мы предполагаем всякий раз выполнение этих условий, ограничиваясь в основном изложением формальной схемы метода."
   ]
  },
  {
   "cell_type": "code",
   "execution_count": 1,
   "metadata": {
    "collapsed": true
   },
   "outputs": [],
   "source": [
    "import numpy as np\n",
    "from math import log, exp,sin,cos,sqrt\n",
    "from scipy import *\n",
    "from scipy.linalg import *\n",
    "from sympy import *\n",
    "init_printing()\n",
    "import matplotlib.pyplot as plt\n",
    "import pylab\n",
    "% matplotlib inline"
   ]
  },
  {
   "cell_type": "markdown",
   "metadata": {},
   "source": [
    "## Метод разложения в ряд Тейлора"
   ]
  },
  {
   "cell_type": "markdown",
   "metadata": {},
   "source": [
    "Простейшим способом построения приближенного решения в точке $x_{n+1}$\n",
    "сетки $ω_N$ является способ, основанный на разложении решения в ряд\n",
    "Тейлора в предыдущей точке сетки $x_n$ по степеням шага $h$:\n"
   ]
  },
  {
   "cell_type": "markdown",
   "metadata": {},
   "source": [
    "$y(x_{n+1}) = y(x_n) + h \\Delta(x_n, y_n, h)$, \n"
   ]
  },
  {
   "cell_type": "markdown",
   "metadata": {},
   "source": [
    "$\\Delta (x, y, h) ≡ y^\\prime(x) + h/2\\cdot y^{\\prime\\prime}(x) + h/(2\\cdot 3!) y^{\\prime\\prime\\prime}(x) + ... $\n"
   ]
  },
  {
   "cell_type": "markdown",
   "metadata": {},
   "source": [
    "Взяв вместо этого ряда конечный его отрезок\n"
   ]
  },
  {
   "cell_type": "markdown",
   "metadata": {},
   "source": [
    "$ϕ_p(x, y, h) ≡ y^\\prime(x) + h/2\\cdot y^{\\prime\\prime}(x) + . . . + h^{p−1}/p!\\cdot y^{(p)}(x)$\n"
   ]
  },
  {
   "cell_type": "markdown",
   "metadata": {},
   "source": [
    "И заменяя в нем производные $y^{(k)}(x)$ получаем последовательность приближений\n",
    "$y_{n+1} = y_n + h\\cdot ϕ_p(x_n, y_n, h), n = 0, 1, 2, . . . .$ \n"
   ]
  },
  {
   "cell_type": "markdown",
   "metadata": {},
   "source": [
    "Алгоритм типа не требуют вычисления дополнительных началь-\n",
    "ных условий и позволяют легко менять шаг интегрирования. Примени-\n",
    "мость данных методов ограничена теми задачами, для которых легко\n",
    "вычисляются частные производные высоких порядков функции $f(x, y)$.\n",
    "\n"
   ]
  },
  {
   "cell_type": "markdown",
   "metadata": {},
   "source": [
    "Решим диф-е уравнение  $ y^{\\prime\\prime} + y^\\prime -4y = x\\cdot exp(-x) $, с начальными условиями  $ y(0)=1$, $y^\\prime(0)=0 $, $x∈[0,2]$, с относительной точностью $0.01$"
   ]
  },
  {
   "cell_type": "code",
   "execution_count": 3,
   "metadata": {
    "collapsed": false
   },
   "outputs": [],
   "source": [
    "def f(x,y1,y2):\n",
    "    z=y2\n",
    "    r=4*y1-y2+x*exp(-x)\n",
    "    return z,r\n",
    "x=Symbol('x')\n",
    "y1=Symbol('y1')\n",
    "y2=Symbol('y2')"
   ]
  },
  {
   "cell_type": "code",
   "execution_count": 38,
   "metadata": {
    "collapsed": false
   },
   "outputs": [],
   "source": [
    "def F(x00,y0,y01,h):\n",
    "    n=0\n",
    "    n1=np.zeros([2,1]) # это будет массив со значаниями y' \n",
    "    A=np.zeros([2,1])  # это будет массив со значаниями f'по х \n",
    "    A2=np.zeros([2,1])# это будет массив со значаниями f'' по х x \n",
    "    while True:\n",
    "        x0=x00 #начальная точка  по x\n",
    "        n0=np.array([[y0],[y01]]) # массив с начальными условиями\n",
    "        n=n+1 # счётчик\n",
    "        X=[x0] # список с начальным х\n",
    "        Y=[y0] # список с y0\n",
    "        Y1=[y01] # список с y'(0)\n",
    "        S=[y0] # список с y0 в дальнейше будет использоваться\n",
    "        j=1 # в дальнейше будет использоваться\n",
    "        # a,b,c,d компонетны матрицы якоби. матрица постоянная. компоненты считаются через зиспольное дифференцирование\n",
    "        a=diff(f(x,y1,y2)[0],y1).evalf(subs={x:x0,y1:n0[0][0],y2:n0[1][0]})\n",
    "        b=diff(f(x,y1,y2)[0],y2).evalf(subs={x:x0,y1:n0[0][0],y2:n0[1][0]})\n",
    "        c=diff(f(x,y1,y2)[1],y1).evalf(subs={x:x0,y1:n0[0][0],y2:n0[1][0]})\n",
    "        d=diff(f(x,y1,y2)[1],y2).evalf(subs={x:x0,y1:n0[0][0],y2:n0[1][0]})\n",
    "        M=np.array([[a,b],[c,d]]) # матрица якоби\n",
    "        while x0>=0 and x0<=(2-h): # цикл по сетки. шагаем от начального х в следующую и пересчитываем у и у'\n",
    "            A[1][0]=diff(f(x,y1,y2)[1],x).evalf(subs={x:x0,y1:n0[0][0],y2:n0[1][0]}) # считается производная по х\n",
    "            A2[1][0]=diff(f(x,y1,y2)[1],x,x).evalf(subs={x:x0,y1:n0[0][0],y2:n0[1][0]}) # считается вторая производная по х,х\n",
    "            for i in range(2):\n",
    "                e=f(x,y1,y2)[i].evalf(subs={x:x0,y1:n0[0][0],y2:n0[1][0]}) # значаниями y' = f(в начальной точке)\n",
    "                n1[i]=e # получили массив со значаниями y'\n",
    "            n2=A+dot(M,n1) # создаются слагаеммые для окончальтельной флрмулы\n",
    "            n3=A2+dot(M,A) \n",
    "            nn=n0+h*n1+0.5*n2*h**2+h**3/3*n3 # окончательная формула\n",
    "            n0=nn # двинули начальную точку\n",
    "            x0=x0+h # шагнули по х\n",
    "            X.append(x0) # добавили х в список . для графика\n",
    "            Y.append(nn[0][0]) # добавили y в список . для графика\n",
    "            j=j+1\n",
    "            if j%2!=0: # проверка на нечётность\n",
    "                S.append(nn[0][0]) # запомнили значени у на нечётном шаге\n",
    "                \n",
    "        h=h*0.5  # подробили шаг  \n",
    "        S=np.array(S,dtype=np.double) # из списка сделали массив\n",
    "        if n!=1: # после первой итерации идёт проверка на выход из основного цикла\n",
    "            Yp= np.array(Yp,dtype=np.double) # из списка сделали массив\n",
    "            if abs (norm(S-Yp)/norm(Yp))<0.001: # проверка\n",
    "                break\n",
    "        Yp=Y # запомнили значения всех y на предыдущем шаге\n",
    "    return X,Y\n",
    "Ca,Da=F(0,1,0,1)"
   ]
  },
  {
   "cell_type": "code",
   "execution_count": 39,
   "metadata": {
    "collapsed": false
   },
   "outputs": [
    {
     "name": "stdout",
     "output_type": "stream",
     "text": [
      "129\n"
     ]
    }
   ],
   "source": [
    "print (len(Ca))"
   ]
  },
  {
   "cell_type": "code",
   "execution_count": 42,
   "metadata": {
    "collapsed": false
   },
   "outputs": [
    {
     "data": {
      "image/png": "[encoded data removed]",
      "text/plain": [
       "<matplotlib.figure.Figure at 0x19ab67a8278>"
      ]
     },
     "metadata": {},
     "output_type": "display_data"
    }
   ],
   "source": [
    "#график решения численного и истиннго\n",
    "def Fx(x):\n",
    "    z=0.649999997331716*exp(0.5*x*(-1+sqrt(17)))+0.312500002668284*exp(0.5*x*(1-sqrt(17)))-x/4*exp(-x)+exp(-x)/16\n",
    "    #z=1/34*exp(-0.5*x*(1+sqrt(17)))*((17+sqrt(17))*exp(sqrt(17)*x)+17-sqrt(17)) #решени однородного уравнения. хорошо совпадает.\n",
    "    return z               \n",
    "xnew=np.linspace(0,2,129)\n",
    "ynew=[Fx(i) for i in xnew]\n",
    "plt.plot(xnew,ynew,Ca,Da,'o')\n",
    "plt.grid(True)\n",
    "plt.show()"
   ]
  },
  {
   "cell_type": "code",
   "execution_count": 43,
   "metadata": {
    "collapsed": false
   },
   "outputs": [
    {
     "data": {
      "image/png": "[encoded data removed]",
      "text/plain": [
       "<matplotlib.figure.Figure at 0x19ab81d42e8>"
      ]
     },
     "metadata": {},
     "output_type": "display_data"
    }
   ],
   "source": [
    "O=[]\n",
    "for i in range (129):\n",
    "    O.append(ynew[i]-Da[i])\n",
    "#print (O)\n",
    "plt.plot(xnew,O,'o')\n",
    "plt.grid(True)\n",
    "plt.show()"
   ]
  }
 ],
 "metadata": {
  "anaconda-cloud": {},
  "kernelspec": {
   "display_name": "Python [Root]",
   "language": "python",
   "name": "Python [Root]"
  },
  "language_info": {
   "codemirror_mode": {
    "name": "ipython",
    "version": 3
   },
   "file_extension": ".py",
   "mimetype": "text/x-python",
   "name": "python",
   "nbconvert_exporter": "python",
   "pygments_lexer": "ipython3",
   "version": "3.5.2"
  }
 },
 "nbformat": 4,
 "nbformat_minor": 0
}
